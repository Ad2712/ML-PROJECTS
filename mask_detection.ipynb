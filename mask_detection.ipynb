{
 "cells": [
  {
   "cell_type": "code",
   "execution_count": 1,
   "metadata": {},
   "outputs": [
    {
     "data": {
      "text/plain": [
       "array([[51, 52, 73],\n",
       "       [51, 52, 73],\n",
       "       [50, 51, 72],\n",
       "       [50, 51, 72],\n",
       "       [50, 51, 72],\n",
       "       [49, 50, 71],\n",
       "       [49, 50, 71],\n",
       "       [49, 50, 71],\n",
       "       [53, 54, 75],\n",
       "       [53, 54, 75],\n",
       "       [53, 54, 75],\n",
       "       [54, 55, 76],\n",
       "       [54, 55, 76],\n",
       "       [54, 55, 76],\n",
       "       [55, 56, 77],\n",
       "       [55, 56, 76],\n",
       "       [58, 59, 79],\n",
       "       [58, 60, 78],\n",
       "       [58, 60, 78],\n",
       "       [58, 60, 78],\n",
       "       [58, 60, 78],\n",
       "       [58, 60, 78],\n",
       "       [58, 60, 78],\n",
       "       [58, 60, 78],\n",
       "       [56, 58, 76],\n",
       "       [56, 58, 76],\n",
       "       [56, 58, 76],\n",
       "       [56, 58, 76],\n",
       "       [56, 58, 76],\n",
       "       [56, 58, 76],\n",
       "       [56, 58, 76],\n",
       "       [58, 58, 76],\n",
       "       [56, 54, 73],\n",
       "       [58, 54, 73],\n",
       "       [57, 54, 70],\n",
       "       [56, 53, 69],\n",
       "       [56, 53, 69],\n",
       "       [55, 52, 68],\n",
       "       [54, 51, 66],\n",
       "       [54, 51, 66],\n",
       "       [53, 51, 63],\n",
       "       [53, 51, 63],\n",
       "       [53, 52, 62],\n",
       "       [52, 51, 61],\n",
       "       [52, 51, 61],\n",
       "       [51, 50, 60],\n",
       "       [51, 50, 60],\n",
       "       [51, 50, 60],\n",
       "       [51, 50, 60],\n",
       "       [51, 50, 60],\n",
       "       [50, 49, 59],\n",
       "       [50, 49, 59],\n",
       "       [49, 48, 58],\n",
       "       [49, 48, 58],\n",
       "       [49, 48, 58],\n",
       "       [48, 47, 57],\n",
       "       [48, 47, 57],\n",
       "       [48, 47, 57],\n",
       "       [48, 47, 57],\n",
       "       [47, 46, 56],\n",
       "       [47, 46, 56],\n",
       "       [46, 45, 55],\n",
       "       [46, 45, 55],\n",
       "       [44, 45, 55],\n",
       "       [39, 44, 53],\n",
       "       [37, 44, 53],\n",
       "       [37, 44, 53],\n",
       "       [37, 44, 53],\n",
       "       [37, 44, 53],\n",
       "       [37, 44, 53],\n",
       "       [37, 43, 54],\n",
       "       [37, 43, 54],\n",
       "       [35, 41, 54],\n",
       "       [35, 41, 54],\n",
       "       [34, 39, 54],\n",
       "       [34, 39, 54],\n",
       "       [33, 38, 53],\n",
       "       [33, 38, 53],\n",
       "       [33, 37, 55],\n",
       "       [35, 37, 55],\n",
       "       [40, 37, 59],\n",
       "       [42, 36, 59],\n",
       "       [43, 37, 60],\n",
       "       [43, 37, 60],\n",
       "       [44, 38, 61],\n",
       "       [44, 38, 61],\n",
       "       [44, 38, 63],\n",
       "       [45, 39, 64],\n",
       "       [46, 39, 66],\n",
       "       [46, 39, 66],\n",
       "       [46, 38, 68],\n",
       "       [46, 38, 68],\n",
       "       [46, 38, 68],\n",
       "       [46, 38, 68],\n",
       "       [46, 38, 69],\n",
       "       [46, 38, 69],\n",
       "       [46, 38, 69],\n",
       "       [46, 38, 69],\n",
       "       [47, 39, 69],\n",
       "       [48, 40, 70],\n",
       "       [49, 41, 71],\n",
       "       [50, 42, 72],\n",
       "       [51, 44, 71],\n",
       "       [51, 44, 71],\n",
       "       [53, 47, 72],\n",
       "       [53, 47, 72],\n",
       "       [54, 48, 71],\n",
       "       [56, 50, 73],\n",
       "       [57, 51, 74],\n",
       "       [58, 52, 75],\n",
       "       [59, 53, 76],\n",
       "       [62, 54, 77],\n",
       "       [71, 58, 80],\n",
       "       [74, 58, 81],\n",
       "       [75, 59, 82],\n",
       "       [76, 60, 83],\n",
       "       [77, 62, 83],\n",
       "       [79, 64, 85],\n",
       "       [80, 65, 86],\n",
       "       [80, 65, 86],\n",
       "       [79, 65, 83],\n",
       "       [79, 65, 83],\n",
       "       [79, 66, 82],\n",
       "       [79, 66, 82],\n",
       "       [79, 66, 80],\n",
       "       [79, 66, 80],\n",
       "       [79, 66, 80],\n",
       "       [79, 67, 79],\n",
       "       [81, 69, 81],\n",
       "       [80, 69, 79],\n",
       "       [78, 67, 77],\n",
       "       [77, 66, 76],\n",
       "       [76, 65, 75],\n",
       "       [75, 64, 74],\n",
       "       [74, 63, 73],\n",
       "       [73, 62, 72],\n",
       "       [77, 66, 76],\n",
       "       [75, 64, 74],\n",
       "       [71, 60, 70],\n",
       "       [67, 56, 66],\n",
       "       [64, 53, 63],\n",
       "       [67, 56, 66],\n",
       "       [73, 62, 72],\n",
       "       [76, 67, 77],\n",
       "       [59, 52, 65],\n",
       "       [73, 69, 81],\n",
       "       [51, 47, 59],\n",
       "       [55, 51, 63],\n",
       "       [59, 55, 67],\n",
       "       [60, 56, 68],\n",
       "       [44, 40, 52],\n",
       "       [62, 58, 70],\n",
       "       [52, 48, 60],\n",
       "       [51, 47, 59],\n",
       "       [54, 50, 62],\n",
       "       [60, 56, 68],\n",
       "       [58, 54, 66],\n",
       "       [52, 48, 60],\n",
       "       [51, 47, 59],\n",
       "       [54, 49, 64],\n",
       "       [45, 41, 60],\n",
       "       [51, 46, 67],\n",
       "       [47, 42, 63],\n",
       "       [40, 35, 56],\n",
       "       [50, 48, 68],\n",
       "       [52, 50, 70],\n",
       "       [40, 39, 59],\n",
       "       [47, 46, 66],\n",
       "       [43, 42, 62],\n",
       "       [43, 42, 62],\n",
       "       [41, 42, 62],\n",
       "       [41, 42, 62],\n",
       "       [39, 42, 63],\n",
       "       [39, 42, 63],\n",
       "       [39, 42, 63],\n",
       "       [39, 42, 63],\n",
       "       [41, 42, 63],\n",
       "       [41, 42, 63],\n",
       "       [41, 42, 63],\n",
       "       [41, 42, 63],\n",
       "       [41, 42, 63],\n",
       "       [41, 42, 63],\n",
       "       [41, 42, 63],\n",
       "       [41, 42, 63],\n",
       "       [41, 42, 63],\n",
       "       [41, 42, 63],\n",
       "       [41, 42, 63],\n",
       "       [41, 42, 63],\n",
       "       [41, 42, 63],\n",
       "       [41, 42, 63],\n",
       "       [41, 42, 63],\n",
       "       [41, 42, 63],\n",
       "       [39, 40, 61],\n",
       "       [39, 40, 61],\n",
       "       [39, 40, 61],\n",
       "       [38, 39, 60],\n",
       "       [38, 39, 60],\n",
       "       [38, 39, 60],\n",
       "       [37, 38, 59],\n",
       "       [37, 38, 59],\n",
       "       [38, 39, 60],\n",
       "       [38, 39, 60],\n",
       "       [37, 38, 59],\n",
       "       [36, 37, 58],\n",
       "       [35, 36, 57],\n",
       "       [34, 35, 56],\n",
       "       [34, 35, 56],\n",
       "       [33, 34, 54],\n",
       "       [33, 38, 53],\n",
       "       [32, 38, 51],\n",
       "       [32, 38, 51],\n",
       "       [31, 37, 50],\n",
       "       [32, 35, 49],\n",
       "       [31, 34, 48],\n",
       "       [32, 34, 45],\n",
       "       [32, 34, 45],\n",
       "       [33, 35, 45],\n",
       "       [33, 35, 45],\n",
       "       [34, 36, 44],\n",
       "       [34, 36, 44],\n",
       "       [36, 35, 44],\n",
       "       [36, 35, 44],\n",
       "       [36, 36, 42],\n",
       "       [36, 36, 42],\n",
       "       [40, 40, 46],\n",
       "       [41, 41, 47],\n",
       "       [42, 42, 48],\n",
       "       [43, 43, 49],\n",
       "       [43, 46, 50],\n",
       "       [44, 47, 51],\n",
       "       [44, 49, 50],\n",
       "       [44, 49, 50],\n",
       "       [44, 50, 49],\n",
       "       [45, 51, 50],\n",
       "       [43, 51, 50],\n",
       "       [43, 51, 50],\n",
       "       [42, 53, 50],\n",
       "       [42, 53, 50],\n",
       "       [43, 54, 51],\n",
       "       [45, 54, 51],\n",
       "       [48, 53, 51],\n",
       "       [51, 54, 52],\n",
       "       [52, 55, 53],\n",
       "       [53, 56, 54],\n",
       "       [54, 57, 55],\n",
       "       [56, 59, 57],\n",
       "       [57, 60, 58],\n",
       "       [57, 60, 58],\n",
       "       [59, 62, 60],\n",
       "       [59, 62, 60],\n",
       "       [61, 64, 62],\n",
       "       [62, 65, 63],\n",
       "       [64, 67, 65],\n",
       "       [66, 69, 67],\n",
       "       [67, 70, 68],\n",
       "       [66, 71, 69],\n",
       "       [65, 72, 69],\n",
       "       [63, 72, 69],\n",
       "       [64, 73, 70],\n",
       "       [64, 73, 70],\n",
       "       [65, 74, 71],\n",
       "       [65, 74, 71],\n",
       "       [65, 74, 71],\n",
       "       [66, 75, 72],\n",
       "       [63, 72, 69],\n",
       "       [63, 72, 69],\n",
       "       [63, 72, 69],\n",
       "       [62, 71, 68],\n",
       "       [62, 71, 68],\n",
       "       [61, 70, 67],\n",
       "       [61, 70, 67],\n",
       "       [63, 69, 68],\n",
       "       [61, 65, 66],\n",
       "       [62, 63, 67],\n",
       "       [61, 62, 66],\n",
       "       [60, 61, 65],\n",
       "       [59, 60, 64],\n",
       "       [57, 58, 62],\n",
       "       [56, 57, 61],\n",
       "       [56, 57, 61],\n",
       "       [57, 58, 62],\n",
       "       [57, 58, 62],\n",
       "       [56, 57, 61],\n",
       "       [56, 57, 61],\n",
       "       [55, 56, 60],\n",
       "       [55, 56, 60],\n",
       "       [55, 56, 60],\n",
       "       [55, 56, 60],\n",
       "       [52, 51, 60],\n",
       "       [51, 50, 59],\n",
       "       [50, 49, 58],\n",
       "       [49, 48, 57],\n",
       "       [47, 46, 56],\n",
       "       [46, 45, 55],\n",
       "       [45, 43, 55],\n",
       "       [45, 43, 55],\n",
       "       [41, 39, 51],\n",
       "       [40, 38, 50],\n",
       "       [40, 37, 52],\n",
       "       [40, 37, 52]], dtype=uint8)"
      ]
     },
     "execution_count": 1,
     "metadata": {},
     "output_type": "execute_result"
    }
   ],
   "source": [
    "import cv2\n",
    "import numpy as np\n",
    "import matplotlib.pyplot as plt\n",
    "from sklearn.svm import SVC\n",
    "from sklearn.metrics import accuracy_score\n",
    "from sklearn.model_selection import train_test_split\n",
    "from sklearn.decomposition import PCA\n",
    "img = cv2.imread('C:\\\\Users\\\\hp\\\\Documents\\\\face mask detection opencv\\\\ronaldo.jpeg')\n",
    "img.shape\n",
    "img[0] "
   ]
  },
  {
   "cell_type": "code",
   "execution_count": 2,
   "metadata": {},
   "outputs": [],
   "source": [
    "haar_data = cv2.CascadeClassifier('data.xml')\n",
    "\n"
   ]
  },
  {
   "cell_type": "code",
   "execution_count": 3,
   "metadata": {},
   "outputs": [
    {
     "data": {
      "text/plain": [
       "array([[105,  15,  85,  85]])"
      ]
     },
     "execution_count": 3,
     "metadata": {},
     "output_type": "execute_result"
    }
   ],
   "source": [
    "haar_data.detectMultiScale(img)"
   ]
  },
  {
   "cell_type": "code",
   "execution_count": 4,
   "metadata": {},
   "outputs": [],
   "source": [
    "while(True):\n",
    "    faces = haar_data.detectMultiScale(img)\n",
    "    for x,y,w,h in faces:\n",
    "        cv2.rectangle(img, (x,y),(x+w,y+h),(255,0,255),4)\n",
    "    cv2.imshow('result', img) \n",
    "    if cv2.waitKey(2) == 27:\n",
    "        break\n",
    "cv2.destroyAllWindows()"
   ]
  },
  {
   "cell_type": "code",
   "execution_count": 7,
   "metadata": {},
   "outputs": [
    {
     "name": "stdout",
     "output_type": "stream",
     "text": [
      "0\n",
      "1\n",
      "2\n",
      "3\n",
      "4\n",
      "5\n",
      "6\n",
      "7\n",
      "8\n",
      "9\n",
      "10\n",
      "11\n",
      "12\n",
      "13\n",
      "14\n",
      "15\n",
      "16\n",
      "17\n",
      "18\n",
      "19\n",
      "20\n",
      "21\n",
      "22\n",
      "23\n",
      "24\n",
      "25\n",
      "26\n",
      "27\n",
      "28\n",
      "29\n",
      "30\n",
      "31\n",
      "32\n",
      "33\n",
      "34\n",
      "35\n",
      "36\n",
      "37\n",
      "38\n",
      "39\n",
      "40\n",
      "41\n",
      "42\n",
      "43\n",
      "44\n",
      "45\n",
      "46\n",
      "47\n",
      "48\n",
      "49\n",
      "50\n",
      "51\n",
      "52\n",
      "53\n",
      "54\n",
      "55\n",
      "56\n",
      "57\n",
      "58\n",
      "59\n",
      "60\n",
      "61\n",
      "62\n",
      "63\n",
      "64\n",
      "65\n",
      "66\n",
      "67\n",
      "68\n",
      "69\n",
      "70\n",
      "71\n",
      "72\n",
      "73\n",
      "74\n",
      "75\n",
      "76\n",
      "77\n",
      "78\n",
      "79\n",
      "80\n",
      "81\n",
      "82\n",
      "83\n",
      "84\n",
      "85\n",
      "86\n",
      "87\n",
      "88\n",
      "89\n",
      "90\n",
      "91\n",
      "92\n",
      "93\n",
      "94\n",
      "95\n",
      "96\n",
      "97\n",
      "98\n",
      "99\n",
      "100\n",
      "101\n",
      "102\n",
      "103\n",
      "104\n",
      "105\n",
      "106\n",
      "107\n",
      "108\n",
      "109\n",
      "110\n",
      "111\n",
      "112\n",
      "113\n",
      "114\n",
      "115\n",
      "116\n",
      "117\n",
      "118\n",
      "119\n",
      "120\n",
      "121\n",
      "122\n",
      "123\n",
      "124\n",
      "125\n",
      "126\n",
      "127\n",
      "128\n",
      "129\n",
      "130\n",
      "131\n",
      "132\n",
      "133\n",
      "134\n",
      "135\n",
      "136\n",
      "137\n",
      "138\n",
      "139\n",
      "140\n",
      "141\n",
      "142\n",
      "143\n",
      "144\n",
      "145\n",
      "146\n",
      "147\n",
      "148\n",
      "149\n",
      "150\n",
      "151\n",
      "152\n",
      "153\n",
      "154\n",
      "155\n",
      "156\n",
      "157\n",
      "158\n",
      "159\n",
      "160\n",
      "161\n",
      "162\n",
      "163\n",
      "164\n",
      "165\n",
      "166\n",
      "167\n",
      "168\n",
      "169\n",
      "170\n",
      "171\n",
      "172\n",
      "173\n",
      "174\n",
      "175\n",
      "176\n",
      "177\n",
      "178\n",
      "179\n",
      "180\n",
      "181\n",
      "182\n",
      "183\n",
      "184\n",
      "185\n",
      "186\n",
      "187\n",
      "188\n",
      "189\n",
      "190\n",
      "191\n",
      "192\n",
      "193\n",
      "194\n",
      "195\n",
      "196\n",
      "197\n",
      "198\n",
      "199\n"
     ]
    }
   ],
   "source": [
    "capture = cv2.VideoCapture(0)\n",
    "data = []\n",
    "while(True):\n",
    "    flag,img=capture.read()  \n",
    "    if flag:\n",
    "        faces = haar_data.detectMultiScale(img)\n",
    "        for x,y,w,h in faces:\n",
    "            cv2.rectangle(img, (x,y),(x+w,y+h),(255,0,255),4)\n",
    "            face = img[y:y+h,x:x+w, :]\n",
    "            face = cv2.resize(face, (50,50)) \n",
    "            print(len(data))\n",
    "            if len(data) < 400:\n",
    "                data.append(face)\n",
    "        cv2.imshow('result', img) \n",
    "        if cv2.waitKey(2) == 27 or len(data) >= 200:\n",
    "            break\n",
    "capture.release()\n",
    "cv2.destroyAllWindows()"
   ]
  },
  {
   "cell_type": "code",
   "execution_count": 6,
   "metadata": {},
   "outputs": [],
   "source": [
    "np.save('without_mask.npy',data)"
   ]
  },
  {
   "cell_type": "code",
   "execution_count": 8,
   "metadata": {},
   "outputs": [],
   "source": [
    "np.save('with_mask.npy',data)"
   ]
  },
  {
   "cell_type": "code",
   "execution_count": 9,
   "metadata": {},
   "outputs": [
    {
     "data": {
      "text/plain": [
       "<matplotlib.image.AxesImage at 0x1976a9054e0>"
      ]
     },
     "execution_count": 9,
     "metadata": {},
     "output_type": "execute_result"
    },
    {
     "data": {
      "image/png": "[encoded data removed]",
      "text/plain": [
       "<Figure size 640x480 with 1 Axes>"
      ]
     },
     "metadata": {},
     "output_type": "display_data"
    }
   ],
   "source": [
    "plt.imshow(data[0])"
   ]
  },
  {
   "cell_type": "code",
   "execution_count": 10,
   "metadata": {},
   "outputs": [],
   "source": [
    "with_mask = np.load('with_mask.npy')\n",
    "without_mask = np.load('without_mask.npy')"
   ]
  },
  {
   "cell_type": "code",
   "execution_count": 11,
   "metadata": {},
   "outputs": [
    {
     "data": {
      "text/plain": [
       "(200, 50, 50, 3)"
      ]
     },
     "execution_count": 11,
     "metadata": {},
     "output_type": "execute_result"
    }
   ],
   "source": [
    "with_mask.shape"
   ]
  },
  {
   "cell_type": "code",
   "execution_count": 12,
   "metadata": {},
   "outputs": [
    {
     "data": {
      "text/plain": [
       "(201, 50, 50, 3)"
      ]
     },
     "execution_count": 12,
     "metadata": {},
     "output_type": "execute_result"
    }
   ],
   "source": [
    "without_mask.shape"
   ]
  },
  {
   "cell_type": "code",
   "execution_count": 13,
   "metadata": {},
   "outputs": [],
   "source": [
    "with_mask = with_mask.reshape(200,50*50*3)\n",
    "without_mask = without_mask.reshape(201,50*50*3)"
   ]
  },
  {
   "cell_type": "code",
   "execution_count": 14,
   "metadata": {},
   "outputs": [
    {
     "data": {
      "text/plain": [
       "(201, 7500)"
      ]
     },
     "execution_count": 14,
     "metadata": {},
     "output_type": "execute_result"
    }
   ],
   "source": [
    "with_mask.shape\n",
    "without_mask.shape"
   ]
  },
  {
   "cell_type": "code",
   "execution_count": 15,
   "metadata": {},
   "outputs": [],
   "source": [
    "X = np.r_[with_mask,without_mask]"
   ]
  },
  {
   "cell_type": "code",
   "execution_count": 16,
   "metadata": {},
   "outputs": [
    {
     "data": {
      "text/plain": [
       "(401, 7500)"
      ]
     },
     "execution_count": 16,
     "metadata": {},
     "output_type": "execute_result"
    }
   ],
   "source": [
    "X.shape"
   ]
  },
  {
   "cell_type": "code",
   "execution_count": 17,
   "metadata": {},
   "outputs": [],
   "source": [
    "labels = np.zeros(X.shape[0])"
   ]
  },
  {
   "cell_type": "code",
   "execution_count": 18,
   "metadata": {},
   "outputs": [],
   "source": [
    "labels[200:] = 1.0"
   ]
  },
  {
   "cell_type": "code",
   "execution_count": 19,
   "metadata": {},
   "outputs": [],
   "source": [
    "names = {0 : 'Mask', 1 : 'No Mask'}"
   ]
  },
  {
   "cell_type": "code",
   "execution_count": 20,
   "metadata": {},
   "outputs": [],
   "source": [
    "x_train,x_test,y_train,y_test = train_test_split(X, labels,test_size=0.25)"
   ]
  },
  {
   "cell_type": "code",
   "execution_count": 21,
   "metadata": {},
   "outputs": [
    {
     "data": {
      "text/plain": [
       "(300, 7500)"
      ]
     },
     "execution_count": 21,
     "metadata": {},
     "output_type": "execute_result"
    }
   ],
   "source": [
    "x_train.shape"
   ]
  },
  {
   "cell_type": "code",
   "execution_count": 22,
   "metadata": {},
   "outputs": [],
   "source": [
    "pca = PCA(n_components=3)\n",
    "x_train = pca.fit_transform(x_train)"
   ]
  },
  {
   "cell_type": "code",
   "execution_count": 23,
   "metadata": {},
   "outputs": [
    {
     "data": {
      "text/plain": [
       "array([-2155.33800893, -1144.73571664, -1430.52992556])"
      ]
     },
     "execution_count": 23,
     "metadata": {},
     "output_type": "execute_result"
    }
   ],
   "source": [
    "x_train[0]"
   ]
  },
  {
   "cell_type": "code",
   "execution_count": 24,
   "metadata": {},
   "outputs": [
    {
     "data": {
      "text/plain": [
       "(300, 3)"
      ]
     },
     "execution_count": 24,
     "metadata": {},
     "output_type": "execute_result"
    }
   ],
   "source": [
    "x_train.shape"
   ]
  },
  {
   "cell_type": "code",
   "execution_count": 25,
   "metadata": {},
   "outputs": [],
   "source": [
    "# x_train,x_test,y_train,y_test = train_test_split(X, labels,test_size=0.25)"
   ]
  },
  {
   "cell_type": "code",
   "execution_count": 26,
   "metadata": {},
   "outputs": [
    {
     "data": {
      "text/html": [
       "<style>#sk-container-id-1 {color: black;background-color: white;}#sk-container-id-1 pre{padding: 0;}#sk-container-id-1 div.sk-toggleable {background-color: white;}#sk-container-id-1 label.sk-toggleable__label {cursor: pointer;display: block;width: 100%;margin-bottom: 0;padding: 0.3em;box-sizing: border-box;text-align: center;}#sk-container-id-1 label.sk-toggleable__label-arrow:before {content: \"▸\";float: left;margin-right: 0.25em;color: #696969;}#sk-container-id-1 label.sk-toggleable__label-arrow:hover:before {color: black;}#sk-container-id-1 div.sk-estimator:hover label.sk-toggleable__label-arrow:before {color: black;}#sk-container-id-1 div.sk-toggleable__content {max-height: 0;max-width: 0;overflow: hidden;text-align: left;background-color: #f0f8ff;}#sk-container-id-1 div.sk-toggleable__content pre {margin: 0.2em;color: black;border-radius: 0.25em;background-color: #f0f8ff;}#sk-container-id-1 input.sk-toggleable__control:checked~div.sk-toggleable__content {max-height: 200px;max-width: 100%;overflow: auto;}#sk-container-id-1 input.sk-toggleable__control:checked~label.sk-toggleable__label-arrow:before {content: \"▾\";}#sk-container-id-1 div.sk-estimator input.sk-toggleable__control:checked~label.sk-toggleable__label {background-color: #d4ebff;}#sk-container-id-1 div.sk-label input.sk-toggleable__control:checked~label.sk-toggleable__label {background-color: #d4ebff;}#sk-container-id-1 input.sk-hidden--visually {border: 0;clip: rect(1px 1px 1px 1px);clip: rect(1px, 1px, 1px, 1px);height: 1px;margin: -1px;overflow: hidden;padding: 0;position: absolute;width: 1px;}#sk-container-id-1 div.sk-estimator {font-family: monospace;background-color: #f0f8ff;border: 1px dotted black;border-radius: 0.25em;box-sizing: border-box;margin-bottom: 0.5em;}#sk-container-id-1 div.sk-estimator:hover {background-color: #d4ebff;}#sk-container-id-1 div.sk-parallel-item::after {content: \"\";width: 100%;border-bottom: 1px solid gray;flex-grow: 1;}#sk-container-id-1 div.sk-label:hover label.sk-toggleable__label {background-color: #d4ebff;}#sk-container-id-1 div.sk-serial::before {content: \"\";position: absolute;border-left: 1px solid gray;box-sizing: border-box;top: 0;bottom: 0;left: 50%;z-index: 0;}#sk-container-id-1 div.sk-serial {display: flex;flex-direction: column;align-items: center;background-color: white;padding-right: 0.2em;padding-left: 0.2em;position: relative;}#sk-container-id-1 div.sk-item {position: relative;z-index: 1;}#sk-container-id-1 div.sk-parallel {display: flex;align-items: stretch;justify-content: center;background-color: white;position: relative;}#sk-container-id-1 div.sk-item::before, #sk-container-id-1 div.sk-parallel-item::before {content: \"\";position: absolute;border-left: 1px solid gray;box-sizing: border-box;top: 0;bottom: 0;left: 50%;z-index: -1;}#sk-container-id-1 div.sk-parallel-item {display: flex;flex-direction: column;z-index: 1;position: relative;background-color: white;}#sk-container-id-1 div.sk-parallel-item:first-child::after {align-self: flex-end;width: 50%;}#sk-container-id-1 div.sk-parallel-item:last-child::after {align-self: flex-start;width: 50%;}#sk-container-id-1 div.sk-parallel-item:only-child::after {width: 0;}#sk-container-id-1 div.sk-dashed-wrapped {border: 1px dashed gray;margin: 0 0.4em 0.5em 0.4em;box-sizing: border-box;padding-bottom: 0.4em;background-color: white;}#sk-container-id-1 div.sk-label label {font-family: monospace;font-weight: bold;display: inline-block;line-height: 1.2em;}#sk-container-id-1 div.sk-label-container {text-align: center;}#sk-container-id-1 div.sk-container {/* jupyter's `normalize.less` sets `[hidden] { display: none; }` but bootstrap.min.css set `[hidden] { display: none !important; }` so we also need the `!important` here to be able to override the default hidden behavior on the sphinx rendered scikit-learn.org. See: https://github.com/scikit-learn/scikit-learn/issues/21755 */display: inline-block !important;position: relative;}#sk-container-id-1 div.sk-text-repr-fallback {display: none;}</style><div id=\"sk-container-id-1\" class=\"sk-top-container\"><div class=\"sk-text-repr-fallback\"><pre>SVC()</pre><b>In a Jupyter environment, please rerun this cell to show the HTML representation or trust the notebook. <br />On GitHub, the HTML representation is unable to render, please try loading this page with nbviewer.org.</b></div><div class=\"sk-container\" hidden><div class=\"sk-item\"><div class=\"sk-estimator sk-toggleable\"><input class=\"sk-toggleable__control sk-hidden--visually\" id=\"sk-estimator-id-1\" type=\"checkbox\" checked><label for=\"sk-estimator-id-1\" class=\"sk-toggleable__label sk-toggleable__label-arrow\">SVC</label><div class=\"sk-toggleable__content\"><pre>SVC()</pre></div></div></div></div></div>"
      ],
      "text/plain": [
       "SVC()"
      ]
     },
     "execution_count": 26,
     "metadata": {},
     "output_type": "execute_result"
    }
   ],
   "source": [
    "svm = SVC()\n",
    "svm.fit(x_train,y_train)"
   ]
  },
  {
   "cell_type": "code",
   "execution_count": 27,
   "metadata": {},
   "outputs": [],
   "source": [
    "x_test = pca.transform(x_test)\n",
    "y_pred = svm.predict(x_test)"
   ]
  },
  {
   "cell_type": "code",
   "execution_count": 28,
   "metadata": {},
   "outputs": [
    {
     "data": {
      "text/plain": [
       "0.9405940594059405"
      ]
     },
     "execution_count": 28,
     "metadata": {},
     "output_type": "execute_result"
    }
   ],
   "source": [
    "accuracy_score(y_test,y_pred)"
   ]
  },
  {
   "cell_type": "code",
   "execution_count": 31,
   "metadata": {},
   "outputs": [
    {
     "name": "stdout",
     "output_type": "stream",
     "text": [
      "Mask\n",
      "No Mask\n",
      "No Mask\n",
      "No Mask\n",
      "No Mask\n",
      "No Mask\n",
      "No Mask\n",
      "No Mask\n",
      "No Mask\n",
      "Mask\n",
      "No Mask\n",
      "No Mask\n",
      "No Mask\n",
      "No Mask\n",
      "No Mask\n",
      "No Mask\n",
      "No Mask\n",
      "No Mask\n",
      "Mask\n",
      "Mask\n",
      "No Mask\n",
      "Mask\n",
      "Mask\n",
      "Mask\n",
      "No Mask\n",
      "No Mask\n",
      "Mask\n",
      "No Mask\n",
      "Mask\n",
      "No Mask\n",
      "No Mask\n",
      "Mask\n",
      "Mask\n",
      "No Mask\n",
      "Mask\n",
      "No Mask\n",
      "Mask\n",
      "No Mask\n",
      "Mask\n",
      "Mask\n",
      "No Mask\n",
      "No Mask\n",
      "Mask\n",
      "Mask\n",
      "Mask\n",
      "Mask\n",
      "Mask\n",
      "Mask\n",
      "Mask\n",
      "Mask\n",
      "Mask\n",
      "Mask\n",
      "Mask\n",
      "Mask\n",
      "Mask\n",
      "Mask\n",
      "Mask\n",
      "Mask\n",
      "No Mask\n",
      "Mask\n",
      "No Mask\n",
      "No Mask\n",
      "No Mask\n",
      "No Mask\n",
      "No Mask\n",
      "No Mask\n",
      "No Mask\n",
      "Mask\n",
      "Mask\n",
      "Mask\n",
      "Mask\n",
      "Mask\n",
      "Mask\n",
      "Mask\n",
      "Mask\n",
      "Mask\n",
      "Mask\n",
      "Mask\n",
      "Mask\n",
      "Mask\n",
      "Mask\n",
      "No Mask\n",
      "No Mask\n",
      "No Mask\n",
      "Mask\n",
      "No Mask\n",
      "No Mask\n",
      "Mask\n",
      "Mask\n",
      "Mask\n",
      "No Mask\n",
      "Mask\n",
      "Mask\n",
      "No Mask\n",
      "No Mask\n",
      "No Mask\n",
      "Mask\n",
      "Mask\n",
      "Mask\n",
      "Mask\n",
      "Mask\n",
      "Mask\n",
      "Mask\n",
      "Mask\n",
      "Mask\n",
      "Mask\n",
      "Mask\n",
      "Mask\n",
      "Mask\n",
      "Mask\n",
      "No Mask\n",
      "Mask\n",
      "Mask\n",
      "Mask\n",
      "Mask\n",
      "Mask\n",
      "Mask\n",
      "Mask\n",
      "Mask\n",
      "Mask\n",
      "Mask\n",
      "Mask\n",
      "Mask\n",
      "Mask\n",
      "Mask\n",
      "Mask\n",
      "Mask\n",
      "Mask\n",
      "Mask\n",
      "Mask\n",
      "Mask\n",
      "Mask\n",
      "Mask\n",
      "Mask\n",
      "Mask\n",
      "Mask\n",
      "Mask\n",
      "Mask\n",
      "Mask\n",
      "Mask\n",
      "Mask\n",
      "Mask\n",
      "Mask\n",
      "Mask\n",
      "Mask\n",
      "No Mask\n",
      "Mask\n",
      "Mask\n",
      "Mask\n",
      "Mask\n",
      "Mask\n",
      "Mask\n",
      "Mask\n",
      "Mask\n",
      "Mask\n",
      "Mask\n",
      "Mask\n",
      "Mask\n",
      "Mask\n",
      "No Mask\n",
      "Mask\n",
      "Mask\n",
      "Mask\n",
      "Mask\n",
      "Mask\n",
      "Mask\n",
      "Mask\n",
      "Mask\n",
      "Mask\n",
      "Mask\n",
      "Mask\n",
      "Mask\n",
      "Mask\n",
      "Mask\n",
      "Mask\n",
      "Mask\n",
      "Mask\n",
      "Mask\n"
     ]
    }
   ],
   "source": [
    "haar_data = cv2.CascadeClassifier('data.xml')\n",
    "capture = cv2.VideoCapture(0)\n",
    "data = []\n",
    "while(True):\n",
    "    flag,img=capture.read()  \n",
    "    if flag:\n",
    "        faces = haar_data.detectMultiScale(img)\n",
    "        for x,y,w,h in faces:\n",
    "            cv2.rectangle(img, (x,y),(x+w,y+h),(255,0,255),4)\n",
    "            face = img[y:y+h,x:x+w, :]\n",
    "            face = cv2.resize(face, (50,50))\n",
    "            face = face.reshape(1, -1) \n",
    "            face = pca.transform(face)\n",
    "            pred = svm.predict(face)\n",
    "            n = names[int(pred)]\n",
    "            print(n)\n",
    "        cv2.imshow('result', img) \n",
    "        if cv2.waitKey(2) == 27:\n",
    "            break\n",
    "            \n",
    "capture.release()\n",
    "cv2.destroyAllWindows()"
   ]
  }
 ],
 "metadata": {
  "kernelspec": {
   "display_name": "Python 3.10.4 64-bit",
   "language": "python",
   "name": "python3"
  },
  "language_info": {
   "codemirror_mode": {
    "name": "ipython",
    "version": 3
   },
   "file_extension": ".py",
   "mimetype": "text/x-python",
   "name": "python",
   "nbconvert_exporter": "python",
   "pygments_lexer": "ipython3",
   "version": "3.10.4"
  },
  "vscode": {
   "interpreter": {
    "hash": "58b3c4c4e09256ead0c5a6bcf9950cd54dfbbfef3e3de768d294d21b35e1adcb"
   }
  }
 },
 "nbformat": 4,
 "nbformat_minor": 2
}
